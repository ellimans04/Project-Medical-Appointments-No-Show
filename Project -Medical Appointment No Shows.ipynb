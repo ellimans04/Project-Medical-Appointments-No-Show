{
 "cells": [
  {
   "cell_type": "markdown",
   "metadata": {},
   "source": [
    "\n",
    "# Project: Medical Appointment No Shows\n",
    "\n",
    "## Table of Contents\n",
    "<ul>\n",
    "<li><a href=\"#intro\">Introduction</a></li>\n",
    "<li><a href=\"#wrangling\">Data Wrangling</a></li>\n",
    "<li><a href=\"#eda\">Exploratory Data Analysis</a></li>\n",
    "<li><a href=\"#conclusions\">Conclusions</a></li>\n",
    "</ul>"
   ]
  },
  {
   "cell_type": "markdown",
   "metadata": {},
   "source": [
    "<a id='intro'></a>\n",
    "## Introduction\n",
    "\n",
    "The Project:Medical Appointment No Shows, relies on the  [dataset](https://www.kaggle.com/datasets/joniarroba/noshowappointments?resource=download) collected \n",
    "from 100k medical appointments in Brazil and is focused on the question of whether or not patients show up for their appointment. A number of characteristics about the patient are included in each row. We need to investigate this dataset to find out what are factors associated with patients' attendance or failed attendence to the scheduled appointment. \n",
    "\n",
    "#### Questions\n",
    " 1.How is gender associated with show-up or no show-up for an appointment?\n",
    " \n",
    " 2.How is age associated with show-up or no show-up?\n",
    " \n",
    " 3.Are any the of chronic conditions or other ailments associated with the outcomes?\n",
    " \n",
    " 4.Does the use of SMS alerts improves the outcome?\n",
    " \n",
    " \n",
    " **Data Description**\n",
    " \n",
    "\n",
    "* PatientId:\tPatient Identification\n",
    "\n",
    "* AppointmentID:\tAppointment Identification \n",
    "\n",
    "* Gender:\tMale or Female.\n",
    "\n",
    "* ScheduledDay: Day and time the patient set up their appointment.\n",
    "\n",
    "* AppointmentDay: Day and time of the actuall Doctor's appointment.\n",
    "\n",
    "* Age:\tHow old is the patient.\n",
    "\n",
    "* Neighbourhood:\tHealth facility location.\n",
    "\n",
    "* Scholarship:\tMedical Scholarship (True or False)\n",
    "\n",
    "* Hipertension:\tTrue or False\n",
    "\n",
    "* Diabetes:\tTrue or False\n",
    "\n",
    "* Alcoholism:\tTrue or False\n",
    "\n",
    "* Handcap:\tTrue or False\n",
    "\n",
    "* SMS_received:\tMessages sent to the patient.\n",
    "\n",
    "* No-show:\tPatients who attended or missed their appointment (Yes = Missed; No = Attended)\n",
    " \n",
    "\n"
   ]
  },
  {
   "cell_type": "code",
   "execution_count": 596,
   "metadata": {},
   "outputs": [],
   "source": [
    "# import and load relevant packages\n",
    "import pandas as pd\n",
    "import matplotlib.pyplot as plt\n",
    "import numpy as np\n",
    "import seaborn as sns\n",
    "%matplotlib inline\n",
    "    \n",
    "\n",
    "\n"
   ]
  },
  {
   "cell_type": "markdown",
   "metadata": {},
   "source": [
    "<a id='wrangling'></a>\n",
    "## Data Wrangling\n",
    "\n",
    "> This section of the report, will load in the data, check for cleanliness, and then trim and clean the dataset for analysis. \n",
    "\n",
    "### General Properties"
   ]
  },
  {
   "cell_type": "code",
   "execution_count": 597,
   "metadata": {},
   "outputs": [
    {
     "data": {
      "text/html": [
       "<div>\n",
       "<style scoped>\n",
       "    .dataframe tbody tr th:only-of-type {\n",
       "        vertical-align: middle;\n",
       "    }\n",
       "\n",
       "    .dataframe tbody tr th {\n",
       "        vertical-align: top;\n",
       "    }\n",
       "\n",
       "    .dataframe thead th {\n",
       "        text-align: right;\n",
       "    }\n",
       "</style>\n",
       "<table border=\"1\" class=\"dataframe\">\n",
       "  <thead>\n",
       "    <tr style=\"text-align: right;\">\n",
       "      <th></th>\n",
       "      <th>PatientId</th>\n",
       "      <th>AppointmentID</th>\n",
       "      <th>Gender</th>\n",
       "      <th>ScheduledDay</th>\n",
       "      <th>AppointmentDay</th>\n",
       "      <th>Age</th>\n",
       "      <th>Neighbourhood</th>\n",
       "      <th>Scholarship</th>\n",
       "      <th>Hipertension</th>\n",
       "      <th>Diabetes</th>\n",
       "      <th>Alcoholism</th>\n",
       "      <th>Handcap</th>\n",
       "      <th>SMS_received</th>\n",
       "      <th>No-show</th>\n",
       "    </tr>\n",
       "  </thead>\n",
       "  <tbody>\n",
       "    <tr>\n",
       "      <th>0</th>\n",
       "      <td>2.987250e+13</td>\n",
       "      <td>5642903</td>\n",
       "      <td>F</td>\n",
       "      <td>2016-04-29T18:38:08Z</td>\n",
       "      <td>2016-04-29T00:00:00Z</td>\n",
       "      <td>62</td>\n",
       "      <td>JARDIM DA PENHA</td>\n",
       "      <td>0</td>\n",
       "      <td>1</td>\n",
       "      <td>0</td>\n",
       "      <td>0</td>\n",
       "      <td>0</td>\n",
       "      <td>0</td>\n",
       "      <td>No</td>\n",
       "    </tr>\n",
       "    <tr>\n",
       "      <th>1</th>\n",
       "      <td>5.589978e+14</td>\n",
       "      <td>5642503</td>\n",
       "      <td>M</td>\n",
       "      <td>2016-04-29T16:08:27Z</td>\n",
       "      <td>2016-04-29T00:00:00Z</td>\n",
       "      <td>56</td>\n",
       "      <td>JARDIM DA PENHA</td>\n",
       "      <td>0</td>\n",
       "      <td>0</td>\n",
       "      <td>0</td>\n",
       "      <td>0</td>\n",
       "      <td>0</td>\n",
       "      <td>0</td>\n",
       "      <td>No</td>\n",
       "    </tr>\n",
       "    <tr>\n",
       "      <th>2</th>\n",
       "      <td>4.262962e+12</td>\n",
       "      <td>5642549</td>\n",
       "      <td>F</td>\n",
       "      <td>2016-04-29T16:19:04Z</td>\n",
       "      <td>2016-04-29T00:00:00Z</td>\n",
       "      <td>62</td>\n",
       "      <td>MATA DA PRAIA</td>\n",
       "      <td>0</td>\n",
       "      <td>0</td>\n",
       "      <td>0</td>\n",
       "      <td>0</td>\n",
       "      <td>0</td>\n",
       "      <td>0</td>\n",
       "      <td>No</td>\n",
       "    </tr>\n",
       "    <tr>\n",
       "      <th>3</th>\n",
       "      <td>8.679512e+11</td>\n",
       "      <td>5642828</td>\n",
       "      <td>F</td>\n",
       "      <td>2016-04-29T17:29:31Z</td>\n",
       "      <td>2016-04-29T00:00:00Z</td>\n",
       "      <td>8</td>\n",
       "      <td>PONTAL DE CAMBURI</td>\n",
       "      <td>0</td>\n",
       "      <td>0</td>\n",
       "      <td>0</td>\n",
       "      <td>0</td>\n",
       "      <td>0</td>\n",
       "      <td>0</td>\n",
       "      <td>No</td>\n",
       "    </tr>\n",
       "    <tr>\n",
       "      <th>4</th>\n",
       "      <td>8.841186e+12</td>\n",
       "      <td>5642494</td>\n",
       "      <td>F</td>\n",
       "      <td>2016-04-29T16:07:23Z</td>\n",
       "      <td>2016-04-29T00:00:00Z</td>\n",
       "      <td>56</td>\n",
       "      <td>JARDIM DA PENHA</td>\n",
       "      <td>0</td>\n",
       "      <td>1</td>\n",
       "      <td>1</td>\n",
       "      <td>0</td>\n",
       "      <td>0</td>\n",
       "      <td>0</td>\n",
       "      <td>No</td>\n",
       "    </tr>\n",
       "  </tbody>\n",
       "</table>\n",
       "</div>"
      ],
      "text/plain": [
       "      PatientId  AppointmentID Gender          ScheduledDay  \\\n",
       "0  2.987250e+13        5642903      F  2016-04-29T18:38:08Z   \n",
       "1  5.589978e+14        5642503      M  2016-04-29T16:08:27Z   \n",
       "2  4.262962e+12        5642549      F  2016-04-29T16:19:04Z   \n",
       "3  8.679512e+11        5642828      F  2016-04-29T17:29:31Z   \n",
       "4  8.841186e+12        5642494      F  2016-04-29T16:07:23Z   \n",
       "\n",
       "         AppointmentDay  Age      Neighbourhood  Scholarship  Hipertension  \\\n",
       "0  2016-04-29T00:00:00Z   62    JARDIM DA PENHA            0             1   \n",
       "1  2016-04-29T00:00:00Z   56    JARDIM DA PENHA            0             0   \n",
       "2  2016-04-29T00:00:00Z   62      MATA DA PRAIA            0             0   \n",
       "3  2016-04-29T00:00:00Z    8  PONTAL DE CAMBURI            0             0   \n",
       "4  2016-04-29T00:00:00Z   56    JARDIM DA PENHA            0             1   \n",
       "\n",
       "   Diabetes  Alcoholism  Handcap  SMS_received No-show  \n",
       "0         0           0        0             0      No  \n",
       "1         0           0        0             0      No  \n",
       "2         0           0        0             0      No  \n",
       "3         0           0        0             0      No  \n",
       "4         1           0        0             0      No  "
      ]
     },
     "execution_count": 597,
     "metadata": {},
     "output_type": "execute_result"
    }
   ],
   "source": [
    "# Load and inspect data\n",
    "\n",
    "df = pd.read_csv('KaggleV2-May-2016.csv')\n",
    "df.head()\n",
    "\n"
   ]
  },
  {
   "cell_type": "markdown",
   "metadata": {},
   "source": [
    "\n",
    "\n",
    "### Data Cleaning \n"
   ]
  },
  {
   "cell_type": "code",
   "execution_count": 598,
   "metadata": {},
   "outputs": [
    {
     "data": {
      "text/plain": [
       "(110527, 14)"
      ]
     },
     "execution_count": 598,
     "metadata": {},
     "output_type": "execute_result"
    }
   ],
   "source": [
    "# check df structure\n",
    "df.shape\n"
   ]
  },
  {
   "cell_type": "code",
   "execution_count": 599,
   "metadata": {},
   "outputs": [
    {
     "data": {
      "text/plain": [
       "0"
      ]
     },
     "execution_count": 599,
     "metadata": {},
     "output_type": "execute_result"
    }
   ],
   "source": [
    "# check for duplicate patients ID and appointment ID\n",
    "df['PatientId'].duplicated().sum()\n",
    "\n",
    "df['AppointmentID'].duplicated().sum()\n"
   ]
  },
  {
   "cell_type": "code",
   "execution_count": 600,
   "metadata": {},
   "outputs": [
    {
     "data": {
      "text/plain": [
       "PatientId          62299\n",
       "AppointmentID     110527\n",
       "Gender                 2\n",
       "ScheduledDay      103549\n",
       "AppointmentDay        27\n",
       "Age                  104\n",
       "Neighbourhood         81\n",
       "Scholarship            2\n",
       "Hipertension           2\n",
       "Diabetes               2\n",
       "Alcoholism             2\n",
       "Handcap                5\n",
       "SMS_received           2\n",
       "No-show                2\n",
       "dtype: int64"
      ]
     },
     "execution_count": 600,
     "metadata": {},
     "output_type": "execute_result"
    }
   ],
   "source": [
    "# check number of unique value in each column\n",
    "df.nunique()"
   ]
  },
  {
   "cell_type": "markdown",
   "metadata": {},
   "source": [
    "* **Note:**\n",
    "\n",
    "Handcap column has 5 unique values\n",
    "\n",
    "AppointmentID contains key values"
   ]
  },
  {
   "cell_type": "code",
   "execution_count": 601,
   "metadata": {},
   "outputs": [
    {
     "data": {
      "text/plain": [
       "array([0, 1, 2, 3, 4], dtype=int64)"
      ]
     },
     "execution_count": 601,
     "metadata": {},
     "output_type": "execute_result"
    }
   ],
   "source": [
    "#check and review the handcap unique values\n",
    "df.Handcap.unique()"
   ]
  },
  {
   "cell_type": "markdown",
   "metadata": {},
   "source": [
    "#### Key Observations\n",
    "* AppointmentID contains the dataset key values\n",
    "* Investigate category and imputation criteria for Handcap unique values\n",
    "Further investigations reviewed that the values in the Handcap column represents number of handcaps reported by a patient , hence convert handcap, True (1) from 1, 2, 3 & 4 and no handcap, False(0)\n"
   ]
  },
  {
   "cell_type": "code",
   "execution_count": 602,
   "metadata": {},
   "outputs": [
    {
     "data": {
      "text/plain": [
       "array([0, 1], dtype=int64)"
      ]
     },
     "execution_count": 602,
     "metadata": {},
     "output_type": "execute_result"
    }
   ],
   "source": [
    "#check and review the handcap unique values\n",
    "df['Handcap'].replace([2,3,4], 1, inplace=True)\n",
    "\n",
    "\n",
    "#recheck for changes\n",
    "df.Handcap.unique()"
   ]
  },
  {
   "cell_type": "code",
   "execution_count": 603,
   "metadata": {},
   "outputs": [
    {
     "data": {
      "text/html": [
       "<div>\n",
       "<style scoped>\n",
       "    .dataframe tbody tr th:only-of-type {\n",
       "        vertical-align: middle;\n",
       "    }\n",
       "\n",
       "    .dataframe tbody tr th {\n",
       "        vertical-align: top;\n",
       "    }\n",
       "\n",
       "    .dataframe thead th {\n",
       "        text-align: right;\n",
       "    }\n",
       "</style>\n",
       "<table border=\"1\" class=\"dataframe\">\n",
       "  <thead>\n",
       "    <tr style=\"text-align: right;\">\n",
       "      <th></th>\n",
       "      <th>PatientId</th>\n",
       "      <th>AppointmentID</th>\n",
       "      <th>Gender</th>\n",
       "      <th>ScheduledDay</th>\n",
       "      <th>AppointmentDay</th>\n",
       "      <th>Age</th>\n",
       "      <th>Neighbourhood</th>\n",
       "      <th>Scholarship</th>\n",
       "      <th>Hipertension</th>\n",
       "      <th>Diabetes</th>\n",
       "      <th>Alcoholism</th>\n",
       "      <th>Handcap</th>\n",
       "      <th>SMS_received</th>\n",
       "      <th>No-show</th>\n",
       "    </tr>\n",
       "  </thead>\n",
       "  <tbody>\n",
       "    <tr>\n",
       "      <th>0</th>\n",
       "      <td>2.987250e+13</td>\n",
       "      <td>5642903</td>\n",
       "      <td>F</td>\n",
       "      <td>2016-04-29T18:38:08Z</td>\n",
       "      <td>2016-04-29T00:00:00Z</td>\n",
       "      <td>62</td>\n",
       "      <td>JARDIM DA PENHA</td>\n",
       "      <td>0</td>\n",
       "      <td>1</td>\n",
       "      <td>0</td>\n",
       "      <td>0</td>\n",
       "      <td>0</td>\n",
       "      <td>0</td>\n",
       "      <td>No</td>\n",
       "    </tr>\n",
       "    <tr>\n",
       "      <th>1</th>\n",
       "      <td>5.589978e+14</td>\n",
       "      <td>5642503</td>\n",
       "      <td>M</td>\n",
       "      <td>2016-04-29T16:08:27Z</td>\n",
       "      <td>2016-04-29T00:00:00Z</td>\n",
       "      <td>56</td>\n",
       "      <td>JARDIM DA PENHA</td>\n",
       "      <td>0</td>\n",
       "      <td>0</td>\n",
       "      <td>0</td>\n",
       "      <td>0</td>\n",
       "      <td>0</td>\n",
       "      <td>0</td>\n",
       "      <td>No</td>\n",
       "    </tr>\n",
       "    <tr>\n",
       "      <th>2</th>\n",
       "      <td>4.262962e+12</td>\n",
       "      <td>5642549</td>\n",
       "      <td>F</td>\n",
       "      <td>2016-04-29T16:19:04Z</td>\n",
       "      <td>2016-04-29T00:00:00Z</td>\n",
       "      <td>62</td>\n",
       "      <td>MATA DA PRAIA</td>\n",
       "      <td>0</td>\n",
       "      <td>0</td>\n",
       "      <td>0</td>\n",
       "      <td>0</td>\n",
       "      <td>0</td>\n",
       "      <td>0</td>\n",
       "      <td>No</td>\n",
       "    </tr>\n",
       "    <tr>\n",
       "      <th>3</th>\n",
       "      <td>8.679512e+11</td>\n",
       "      <td>5642828</td>\n",
       "      <td>F</td>\n",
       "      <td>2016-04-29T17:29:31Z</td>\n",
       "      <td>2016-04-29T00:00:00Z</td>\n",
       "      <td>8</td>\n",
       "      <td>PONTAL DE CAMBURI</td>\n",
       "      <td>0</td>\n",
       "      <td>0</td>\n",
       "      <td>0</td>\n",
       "      <td>0</td>\n",
       "      <td>0</td>\n",
       "      <td>0</td>\n",
       "      <td>No</td>\n",
       "    </tr>\n",
       "    <tr>\n",
       "      <th>4</th>\n",
       "      <td>8.841186e+12</td>\n",
       "      <td>5642494</td>\n",
       "      <td>F</td>\n",
       "      <td>2016-04-29T16:07:23Z</td>\n",
       "      <td>2016-04-29T00:00:00Z</td>\n",
       "      <td>56</td>\n",
       "      <td>JARDIM DA PENHA</td>\n",
       "      <td>0</td>\n",
       "      <td>1</td>\n",
       "      <td>1</td>\n",
       "      <td>0</td>\n",
       "      <td>0</td>\n",
       "      <td>0</td>\n",
       "      <td>No</td>\n",
       "    </tr>\n",
       "  </tbody>\n",
       "</table>\n",
       "</div>"
      ],
      "text/plain": [
       "      PatientId  AppointmentID Gender          ScheduledDay  \\\n",
       "0  2.987250e+13        5642903      F  2016-04-29T18:38:08Z   \n",
       "1  5.589978e+14        5642503      M  2016-04-29T16:08:27Z   \n",
       "2  4.262962e+12        5642549      F  2016-04-29T16:19:04Z   \n",
       "3  8.679512e+11        5642828      F  2016-04-29T17:29:31Z   \n",
       "4  8.841186e+12        5642494      F  2016-04-29T16:07:23Z   \n",
       "\n",
       "         AppointmentDay  Age      Neighbourhood  Scholarship  Hipertension  \\\n",
       "0  2016-04-29T00:00:00Z   62    JARDIM DA PENHA            0             1   \n",
       "1  2016-04-29T00:00:00Z   56    JARDIM DA PENHA            0             0   \n",
       "2  2016-04-29T00:00:00Z   62      MATA DA PRAIA            0             0   \n",
       "3  2016-04-29T00:00:00Z    8  PONTAL DE CAMBURI            0             0   \n",
       "4  2016-04-29T00:00:00Z   56    JARDIM DA PENHA            0             1   \n",
       "\n",
       "   Diabetes  Alcoholism  Handcap  SMS_received No-show  \n",
       "0         0           0        0             0      No  \n",
       "1         0           0        0             0      No  \n",
       "2         0           0        0             0      No  \n",
       "3         0           0        0             0      No  \n",
       "4         1           0        0             0      No  "
      ]
     },
     "execution_count": 603,
     "metadata": {},
     "output_type": "execute_result"
    }
   ],
   "source": [
    "df.head()"
   ]
  },
  {
   "cell_type": "code",
   "execution_count": 604,
   "metadata": {
    "scrolled": true
   },
   "outputs": [
    {
     "data": {
      "text/html": [
       "<div>\n",
       "<style scoped>\n",
       "    .dataframe tbody tr th:only-of-type {\n",
       "        vertical-align: middle;\n",
       "    }\n",
       "\n",
       "    .dataframe tbody tr th {\n",
       "        vertical-align: top;\n",
       "    }\n",
       "\n",
       "    .dataframe thead th {\n",
       "        text-align: right;\n",
       "    }\n",
       "</style>\n",
       "<table border=\"1\" class=\"dataframe\">\n",
       "  <thead>\n",
       "    <tr style=\"text-align: right;\">\n",
       "      <th></th>\n",
       "      <th>PatientId</th>\n",
       "      <th>AppointmentID</th>\n",
       "      <th>Age</th>\n",
       "      <th>Scholarship</th>\n",
       "      <th>Hipertension</th>\n",
       "      <th>Diabetes</th>\n",
       "      <th>Alcoholism</th>\n",
       "      <th>Handcap</th>\n",
       "      <th>SMS_received</th>\n",
       "    </tr>\n",
       "  </thead>\n",
       "  <tbody>\n",
       "    <tr>\n",
       "      <th>count</th>\n",
       "      <td>1.105270e+05</td>\n",
       "      <td>1.105270e+05</td>\n",
       "      <td>110527.000000</td>\n",
       "      <td>110527.000000</td>\n",
       "      <td>110527.000000</td>\n",
       "      <td>110527.000000</td>\n",
       "      <td>110527.000000</td>\n",
       "      <td>110527.000000</td>\n",
       "      <td>110527.000000</td>\n",
       "    </tr>\n",
       "    <tr>\n",
       "      <th>mean</th>\n",
       "      <td>1.474963e+14</td>\n",
       "      <td>5.675305e+06</td>\n",
       "      <td>37.088874</td>\n",
       "      <td>0.098266</td>\n",
       "      <td>0.197246</td>\n",
       "      <td>0.071865</td>\n",
       "      <td>0.030400</td>\n",
       "      <td>0.020276</td>\n",
       "      <td>0.321026</td>\n",
       "    </tr>\n",
       "    <tr>\n",
       "      <th>std</th>\n",
       "      <td>2.560949e+14</td>\n",
       "      <td>7.129575e+04</td>\n",
       "      <td>23.110205</td>\n",
       "      <td>0.297675</td>\n",
       "      <td>0.397921</td>\n",
       "      <td>0.258265</td>\n",
       "      <td>0.171686</td>\n",
       "      <td>0.140942</td>\n",
       "      <td>0.466873</td>\n",
       "    </tr>\n",
       "    <tr>\n",
       "      <th>min</th>\n",
       "      <td>3.921784e+04</td>\n",
       "      <td>5.030230e+06</td>\n",
       "      <td>-1.000000</td>\n",
       "      <td>0.000000</td>\n",
       "      <td>0.000000</td>\n",
       "      <td>0.000000</td>\n",
       "      <td>0.000000</td>\n",
       "      <td>0.000000</td>\n",
       "      <td>0.000000</td>\n",
       "    </tr>\n",
       "    <tr>\n",
       "      <th>25%</th>\n",
       "      <td>4.172614e+12</td>\n",
       "      <td>5.640286e+06</td>\n",
       "      <td>18.000000</td>\n",
       "      <td>0.000000</td>\n",
       "      <td>0.000000</td>\n",
       "      <td>0.000000</td>\n",
       "      <td>0.000000</td>\n",
       "      <td>0.000000</td>\n",
       "      <td>0.000000</td>\n",
       "    </tr>\n",
       "    <tr>\n",
       "      <th>50%</th>\n",
       "      <td>3.173184e+13</td>\n",
       "      <td>5.680573e+06</td>\n",
       "      <td>37.000000</td>\n",
       "      <td>0.000000</td>\n",
       "      <td>0.000000</td>\n",
       "      <td>0.000000</td>\n",
       "      <td>0.000000</td>\n",
       "      <td>0.000000</td>\n",
       "      <td>0.000000</td>\n",
       "    </tr>\n",
       "    <tr>\n",
       "      <th>75%</th>\n",
       "      <td>9.439172e+13</td>\n",
       "      <td>5.725524e+06</td>\n",
       "      <td>55.000000</td>\n",
       "      <td>0.000000</td>\n",
       "      <td>0.000000</td>\n",
       "      <td>0.000000</td>\n",
       "      <td>0.000000</td>\n",
       "      <td>0.000000</td>\n",
       "      <td>1.000000</td>\n",
       "    </tr>\n",
       "    <tr>\n",
       "      <th>max</th>\n",
       "      <td>9.999816e+14</td>\n",
       "      <td>5.790484e+06</td>\n",
       "      <td>115.000000</td>\n",
       "      <td>1.000000</td>\n",
       "      <td>1.000000</td>\n",
       "      <td>1.000000</td>\n",
       "      <td>1.000000</td>\n",
       "      <td>1.000000</td>\n",
       "      <td>1.000000</td>\n",
       "    </tr>\n",
       "  </tbody>\n",
       "</table>\n",
       "</div>"
      ],
      "text/plain": [
       "          PatientId  AppointmentID            Age    Scholarship  \\\n",
       "count  1.105270e+05   1.105270e+05  110527.000000  110527.000000   \n",
       "mean   1.474963e+14   5.675305e+06      37.088874       0.098266   \n",
       "std    2.560949e+14   7.129575e+04      23.110205       0.297675   \n",
       "min    3.921784e+04   5.030230e+06      -1.000000       0.000000   \n",
       "25%    4.172614e+12   5.640286e+06      18.000000       0.000000   \n",
       "50%    3.173184e+13   5.680573e+06      37.000000       0.000000   \n",
       "75%    9.439172e+13   5.725524e+06      55.000000       0.000000   \n",
       "max    9.999816e+14   5.790484e+06     115.000000       1.000000   \n",
       "\n",
       "        Hipertension       Diabetes     Alcoholism        Handcap  \\\n",
       "count  110527.000000  110527.000000  110527.000000  110527.000000   \n",
       "mean        0.197246       0.071865       0.030400       0.020276   \n",
       "std         0.397921       0.258265       0.171686       0.140942   \n",
       "min         0.000000       0.000000       0.000000       0.000000   \n",
       "25%         0.000000       0.000000       0.000000       0.000000   \n",
       "50%         0.000000       0.000000       0.000000       0.000000   \n",
       "75%         0.000000       0.000000       0.000000       0.000000   \n",
       "max         1.000000       1.000000       1.000000       1.000000   \n",
       "\n",
       "        SMS_received  \n",
       "count  110527.000000  \n",
       "mean        0.321026  \n",
       "std         0.466873  \n",
       "min         0.000000  \n",
       "25%         0.000000  \n",
       "50%         0.000000  \n",
       "75%         1.000000  \n",
       "max         1.000000  "
      ]
     },
     "execution_count": 604,
     "metadata": {},
     "output_type": "execute_result"
    }
   ],
   "source": [
    "#check df description\n",
    "df.describe()"
   ]
  },
  {
   "cell_type": "markdown",
   "metadata": {},
   "source": [
    "* *Notice*\n",
    "\n",
    "Error: Minimum age is -1, identify and drop row in dataset"
   ]
  },
  {
   "cell_type": "code",
   "execution_count": 605,
   "metadata": {},
   "outputs": [
    {
     "data": {
      "text/plain": [
       "count    110526.000000\n",
       "mean         37.089219\n",
       "std          23.110026\n",
       "min           0.000000\n",
       "25%          18.000000\n",
       "50%          37.000000\n",
       "75%          55.000000\n",
       "max         115.000000\n",
       "Name: Age, dtype: float64"
      ]
     },
     "execution_count": 605,
     "metadata": {},
     "output_type": "execute_result"
    }
   ],
   "source": [
    "# drop row with age -1 and recheck age description.\n",
    "df.drop(df.query('Age == -1'). index, inplace=True)\n",
    "df.Age.describe()"
   ]
  },
  {
   "cell_type": "code",
   "execution_count": 606,
   "metadata": {},
   "outputs": [
    {
     "data": {
      "text/plain": [
       "PatientId         float64\n",
       "AppointmentID       int64\n",
       "Gender             object\n",
       "ScheduledDay       object\n",
       "AppointmentDay     object\n",
       "Age                 int64\n",
       "Neighbourhood      object\n",
       "Scholarship         int64\n",
       "Hipertension        int64\n",
       "Diabetes            int64\n",
       "Alcoholism          int64\n",
       "Handcap             int64\n",
       "SMS_received        int64\n",
       "No-show            object\n",
       "dtype: object"
      ]
     },
     "execution_count": 606,
     "metadata": {},
     "output_type": "execute_result"
    }
   ],
   "source": [
    "# check and observe the data types in each column\n",
    "df.dtypes"
   ]
  },
  {
   "cell_type": "markdown",
   "metadata": {},
   "source": [
    "* Notice:\n",
    "ScheduleDay and AppointmentDay need to be changed from strings to datetime."
   ]
  },
  {
   "cell_type": "code",
   "execution_count": 607,
   "metadata": {},
   "outputs": [
    {
     "data": {
      "text/plain": [
       "PatientId                     float64\n",
       "AppointmentID                   int64\n",
       "Gender                         object\n",
       "ScheduledDay      datetime64[ns, UTC]\n",
       "AppointmentDay    datetime64[ns, UTC]\n",
       "Age                             int64\n",
       "Neighbourhood                  object\n",
       "Scholarship                     int64\n",
       "Hipertension                    int64\n",
       "Diabetes                        int64\n",
       "Alcoholism                      int64\n",
       "Handcap                         int64\n",
       "SMS_received                    int64\n",
       "No-show                        object\n",
       "dtype: object"
      ]
     },
     "execution_count": 607,
     "metadata": {},
     "output_type": "execute_result"
    }
   ],
   "source": [
    "# change ScheduledDay and AppointmentDay from strings to datetime type\n",
    "df['ScheduledDay']  = pd.to_datetime(df['ScheduledDay'])\n",
    "df['AppointmentDay']  = pd.to_datetime(df['AppointmentDay'])\n",
    "\n",
    "df.dtypes"
   ]
  },
  {
   "cell_type": "code",
   "execution_count": 608,
   "metadata": {},
   "outputs": [
    {
     "data": {
      "text/html": [
       "<div>\n",
       "<style scoped>\n",
       "    .dataframe tbody tr th:only-of-type {\n",
       "        vertical-align: middle;\n",
       "    }\n",
       "\n",
       "    .dataframe tbody tr th {\n",
       "        vertical-align: top;\n",
       "    }\n",
       "\n",
       "    .dataframe thead th {\n",
       "        text-align: right;\n",
       "    }\n",
       "</style>\n",
       "<table border=\"1\" class=\"dataframe\">\n",
       "  <thead>\n",
       "    <tr style=\"text-align: right;\">\n",
       "      <th></th>\n",
       "      <th>PatientId</th>\n",
       "      <th>AppointmentID</th>\n",
       "      <th>Gender</th>\n",
       "      <th>ScheduledDay</th>\n",
       "      <th>AppointmentDay</th>\n",
       "      <th>Age</th>\n",
       "      <th>Neighbourhood</th>\n",
       "      <th>Scholarship</th>\n",
       "      <th>Hipertension</th>\n",
       "      <th>Diabetes</th>\n",
       "      <th>Alcoholism</th>\n",
       "      <th>Handcap</th>\n",
       "      <th>SMS_received</th>\n",
       "      <th>no_show</th>\n",
       "    </tr>\n",
       "  </thead>\n",
       "  <tbody>\n",
       "    <tr>\n",
       "      <th>0</th>\n",
       "      <td>2.987250e+13</td>\n",
       "      <td>5642903</td>\n",
       "      <td>F</td>\n",
       "      <td>2016-04-29 18:38:08+00:00</td>\n",
       "      <td>2016-04-29 00:00:00+00:00</td>\n",
       "      <td>62</td>\n",
       "      <td>JARDIM DA PENHA</td>\n",
       "      <td>0</td>\n",
       "      <td>1</td>\n",
       "      <td>0</td>\n",
       "      <td>0</td>\n",
       "      <td>0</td>\n",
       "      <td>0</td>\n",
       "      <td>0</td>\n",
       "    </tr>\n",
       "    <tr>\n",
       "      <th>1</th>\n",
       "      <td>5.589978e+14</td>\n",
       "      <td>5642503</td>\n",
       "      <td>M</td>\n",
       "      <td>2016-04-29 16:08:27+00:00</td>\n",
       "      <td>2016-04-29 00:00:00+00:00</td>\n",
       "      <td>56</td>\n",
       "      <td>JARDIM DA PENHA</td>\n",
       "      <td>0</td>\n",
       "      <td>0</td>\n",
       "      <td>0</td>\n",
       "      <td>0</td>\n",
       "      <td>0</td>\n",
       "      <td>0</td>\n",
       "      <td>0</td>\n",
       "    </tr>\n",
       "    <tr>\n",
       "      <th>2</th>\n",
       "      <td>4.262962e+12</td>\n",
       "      <td>5642549</td>\n",
       "      <td>F</td>\n",
       "      <td>2016-04-29 16:19:04+00:00</td>\n",
       "      <td>2016-04-29 00:00:00+00:00</td>\n",
       "      <td>62</td>\n",
       "      <td>MATA DA PRAIA</td>\n",
       "      <td>0</td>\n",
       "      <td>0</td>\n",
       "      <td>0</td>\n",
       "      <td>0</td>\n",
       "      <td>0</td>\n",
       "      <td>0</td>\n",
       "      <td>0</td>\n",
       "    </tr>\n",
       "    <tr>\n",
       "      <th>3</th>\n",
       "      <td>8.679512e+11</td>\n",
       "      <td>5642828</td>\n",
       "      <td>F</td>\n",
       "      <td>2016-04-29 17:29:31+00:00</td>\n",
       "      <td>2016-04-29 00:00:00+00:00</td>\n",
       "      <td>8</td>\n",
       "      <td>PONTAL DE CAMBURI</td>\n",
       "      <td>0</td>\n",
       "      <td>0</td>\n",
       "      <td>0</td>\n",
       "      <td>0</td>\n",
       "      <td>0</td>\n",
       "      <td>0</td>\n",
       "      <td>0</td>\n",
       "    </tr>\n",
       "    <tr>\n",
       "      <th>4</th>\n",
       "      <td>8.841186e+12</td>\n",
       "      <td>5642494</td>\n",
       "      <td>F</td>\n",
       "      <td>2016-04-29 16:07:23+00:00</td>\n",
       "      <td>2016-04-29 00:00:00+00:00</td>\n",
       "      <td>56</td>\n",
       "      <td>JARDIM DA PENHA</td>\n",
       "      <td>0</td>\n",
       "      <td>1</td>\n",
       "      <td>1</td>\n",
       "      <td>0</td>\n",
       "      <td>0</td>\n",
       "      <td>0</td>\n",
       "      <td>0</td>\n",
       "    </tr>\n",
       "  </tbody>\n",
       "</table>\n",
       "</div>"
      ],
      "text/plain": [
       "      PatientId  AppointmentID Gender              ScheduledDay  \\\n",
       "0  2.987250e+13        5642903      F 2016-04-29 18:38:08+00:00   \n",
       "1  5.589978e+14        5642503      M 2016-04-29 16:08:27+00:00   \n",
       "2  4.262962e+12        5642549      F 2016-04-29 16:19:04+00:00   \n",
       "3  8.679512e+11        5642828      F 2016-04-29 17:29:31+00:00   \n",
       "4  8.841186e+12        5642494      F 2016-04-29 16:07:23+00:00   \n",
       "\n",
       "             AppointmentDay  Age      Neighbourhood  Scholarship  \\\n",
       "0 2016-04-29 00:00:00+00:00   62    JARDIM DA PENHA            0   \n",
       "1 2016-04-29 00:00:00+00:00   56    JARDIM DA PENHA            0   \n",
       "2 2016-04-29 00:00:00+00:00   62      MATA DA PRAIA            0   \n",
       "3 2016-04-29 00:00:00+00:00    8  PONTAL DE CAMBURI            0   \n",
       "4 2016-04-29 00:00:00+00:00   56    JARDIM DA PENHA            0   \n",
       "\n",
       "   Hipertension  Diabetes  Alcoholism  Handcap  SMS_received  no_show  \n",
       "0             1         0           0        0             0        0  \n",
       "1             0         0           0        0             0        0  \n",
       "2             0         0           0        0             0        0  \n",
       "3             0         0           0        0             0        0  \n",
       "4             1         1           0        0             0        0  "
      ]
     },
     "execution_count": 608,
     "metadata": {},
     "output_type": "execute_result"
    }
   ],
   "source": [
    "# rename column for No-Show to no_show, then map No to 0 and Yes to 1 for analysis clarity.\n",
    "df.rename(columns ={'No-show':'no_show'},inplace = True)\n",
    "\n",
    "df['no_show'] = df['no_show'].map({'Yes':1 ,'No':0})\n",
    "\n",
    "df.head()"
   ]
  },
  {
   "cell_type": "code",
   "execution_count": 609,
   "metadata": {},
   "outputs": [
    {
     "data": {
      "text/plain": [
       "PatientId                     float64\n",
       "AppointmentID                   int64\n",
       "Gender                         object\n",
       "ScheduledDay      datetime64[ns, UTC]\n",
       "AppointmentDay    datetime64[ns, UTC]\n",
       "Age                             int64\n",
       "Neighbourhood                  object\n",
       "Scholarship                     int64\n",
       "Hipertension                    int64\n",
       "Diabetes                        int64\n",
       "Alcoholism                      int64\n",
       "Handcap                         int64\n",
       "SMS_received                    int64\n",
       "no_show                         int64\n",
       "dtype: object"
      ]
     },
     "execution_count": 609,
     "metadata": {},
     "output_type": "execute_result"
    }
   ],
   "source": [
    "df['no_show'] = df['no_show'].astype(np.int64)\n",
    "df.dtypes"
   ]
  },
  {
   "cell_type": "code",
   "execution_count": 610,
   "metadata": {},
   "outputs": [
    {
     "data": {
      "text/plain": [
       "PatientId                      object\n",
       "AppointmentID                  object\n",
       "Gender                         object\n",
       "ScheduledDay      datetime64[ns, UTC]\n",
       "AppointmentDay    datetime64[ns, UTC]\n",
       "Age                             int64\n",
       "Neighbourhood                  object\n",
       "Scholarship                     int64\n",
       "Hipertension                    int64\n",
       "Diabetes                        int64\n",
       "Alcoholism                      int64\n",
       "Handcap                         int64\n",
       "SMS_received                    int64\n",
       "no_show                         int64\n",
       "dtype: object"
      ]
     },
     "execution_count": 610,
     "metadata": {},
     "output_type": "execute_result"
    }
   ],
   "source": [
    "# convert PatientId and AppointmentID as strings\n",
    "df.PatientId = df.PatientId.astype(str)\n",
    "df.AppointmentID= df.AppointmentID.astype(str)\n",
    "df.dtypes"
   ]
  },
  {
   "cell_type": "markdown",
   "metadata": {},
   "source": [
    "<a id='eda'></a>\n",
    "## Exploratory Data Analysis\n",
    "\n",
    "\n",
    "\n",
    "### Question 1: How is gender associated with show-up or no show-up"
   ]
  },
  {
   "cell_type": "code",
   "execution_count": 611,
   "metadata": {},
   "outputs": [
    {
     "data": {
      "image/png": "[encoded data removed]",
      "text/plain": [
       "<Figure size 720x720 with 9 Axes>"
      ]
     },
     "metadata": {
      "needs_background": "light"
     },
     "output_type": "display_data"
    }
   ],
   "source": [
    "# check the skewness between columns data\n",
    "# observe the histograms for data consistence and distribution.\n",
    "\n",
    "df.hist(figsize=(10,10), alpha=1);"
   ]
  },
  {
   "cell_type": "code",
   "execution_count": 612,
   "metadata": {},
   "outputs": [
    {
     "name": "stdout",
     "output_type": "stream",
     "text": [
      "0    88207\n",
      "1    22319\n",
      "Name: no_show, dtype: int64\n"
     ]
    }
   ],
   "source": [
    "# check number of patients who attended and didn't attend\n",
    "\n",
    "num_all_patients = df['no_show'].value_counts()\n",
    "print(num_all_patients)"
   ]
  },
  {
   "cell_type": "code",
   "execution_count": 613,
   "metadata": {},
   "outputs": [
    {
     "data": {
      "image/png": "[encoded data removed]",
      "text/plain": [
       "<Figure size 432x288 with 1 Axes>"
      ]
     },
     "metadata": {},
     "output_type": "display_data"
    }
   ],
   "source": [
    "# Pie chart displays the percentage distribution of patient attendence to appointment vs non-attendance\n",
    "\n",
    "plt.pie(num_all_patients,labels=[\"Attended\", \"Didn't_Attend\"], autopct='%1.1f%%', textprops={'fontsize': 18},explode = (0, 0.06))\n",
    "plt.rcParams['font.size'] = 10\n",
    "plt.title(\"Percentage of patients attendence to appointment vs no attendance\",fontsize=18)\n",
    "plt.legend()\n",
    "plt.show()"
   ]
  },
  {
   "cell_type": "markdown",
   "metadata": {},
   "source": [
    "**Only 20.2% didn't show-up for the scheduled appointment**."
   ]
  },
  {
   "cell_type": "code",
   "execution_count": 614,
   "metadata": {},
   "outputs": [],
   "source": [
    "#Lets distiguish attendance by gender with groupby.\n",
    "x= df.groupby(['Gender', 'no_show']).count()\n",
    "\n"
   ]
  },
  {
   "cell_type": "code",
   "execution_count": 615,
   "metadata": {},
   "outputs": [
    {
     "data": {
      "image/png": "[encoded data removed]",
      "text/plain": [
       "<Figure size 432x288 with 1 Axes>"
      ]
     },
     "metadata": {
      "needs_background": "light"
     },
     "output_type": "display_data"
    }
   ],
   "source": [
    "# lets visualise through a bar chat for gender vs attendance\n",
    "x.PatientId.unstack().plot(kind='bar',stacked=True,grid=True)\n",
    "plt.legend(['Show up', 'No Show up']) \n",
    "plt.suptitle('Number of Patients vs Attendence by gender') \n",
    "plt.ylabel('Number of patients'); "
   ]
  },
  {
   "cell_type": "markdown",
   "metadata": {},
   "source": [
    "* ** Females are booked more for appointments than males.**\n",
    "* Now lets determine the propotional differences for represantation and appointment attendance"
   ]
  },
  {
   "cell_type": "code",
   "execution_count": 616,
   "metadata": {},
   "outputs": [
    {
     "name": "stdout",
     "output_type": "stream",
     "text": [
      "M    38687\n",
      "Name: Gender, dtype: int64\n",
      "F    71839\n",
      "Name: Gender, dtype: int64\n"
     ]
    }
   ],
   "source": [
    "#check number of males vs males\n",
    "n_males= df.query('Gender == \"M\"').Gender.value_counts()\n",
    "n_females= df.query('Gender == \"F\"').Gender.value_counts()\n",
    " \n",
    "print(n_males)\n",
    "print(n_females)\n"
   ]
  },
  {
   "cell_type": "code",
   "execution_count": 617,
   "metadata": {},
   "outputs": [
    {
     "data": {
      "text/plain": [
       "Gender  no_show\n",
       "F       0          57245\n",
       "        1          14594\n",
       "M       0          30962\n",
       "        1           7725\n",
       "Name: Gender, dtype: int64"
      ]
     },
     "execution_count": 617,
     "metadata": {},
     "output_type": "execute_result"
    }
   ],
   "source": [
    "#determine number of no_show between males and females\n",
    "\n",
    "gender_no_show= df.groupby(['Gender', 'no_show'])['Gender'].count()\n",
    "gender_no_show"
   ]
  },
  {
   "cell_type": "markdown",
   "metadata": {},
   "source": [
    "* This shows the no_show counts for attendence by gender."
   ]
  },
  {
   "cell_type": "code",
   "execution_count": 618,
   "metadata": {},
   "outputs": [
    {
     "name": "stdout",
     "output_type": "stream",
     "text": [
      "Gender  no_show\n",
      "F       0          79.685129\n",
      "        1          20.314871\n",
      "M       0          80.032052\n",
      "        1          19.967948\n",
      "Name: Gender, dtype: float64\n"
     ]
    }
   ],
   "source": [
    "# determine propotional distribution by gender and no_show appoinment\n",
    "Pct_dist = gender_no_show.groupby(level=0).apply(lambda x:100 * x / int(x.sum()))\n",
    "print(Pct_dist)"
   ]
  },
  {
   "cell_type": "markdown",
   "metadata": {},
   "source": [
    "* This highlights the proportion of attendence by gender."
   ]
  },
  {
   "cell_type": "code",
   "execution_count": 619,
   "metadata": {},
   "outputs": [
    {
     "data": {
      "image/png": "[encoded data removed]",
      "text/plain": [
       "<Figure size 432x288 with 1 Axes>"
      ]
     },
     "metadata": {
      "needs_background": "light"
     },
     "output_type": "display_data"
    }
   ],
   "source": [
    "#Plot the bar chat to visualise the differences.\n",
    "Pct_dist.unstack().plot(kind='bar',stacked=True,grid=True)\n",
    "plt.legend(['Attended', 'Didnt Attend']) \n",
    "plt.suptitle('Percentage Distribution by Gender and No_show Appoinment') \n",
    "plt.ylabel('% Distrubution by Patients'); "
   ]
  },
  {
   "cell_type": "markdown",
   "metadata": {},
   "source": [
    "#### Important Findings\n",
    "* Females have more appointments than males, hence gender can be an impotant factor influencing medical appointments.\n",
    " * Male and Female attendance rates are similar.\n",
    "   * Males and females attendence rate at 80.03% and 79,68% respectevely.\n",
    "   * Males and females non-attendence rate at 19,96% and 20.31% respectevely.\n",
    "   \n",
    "   **No direct correlation between gender and attendance**"
   ]
  },
  {
   "cell_type": "markdown",
   "metadata": {},
   "source": [
    "###  Question 2:  How is age associated with show-up or no show-up?"
   ]
  },
  {
   "cell_type": "code",
   "execution_count": 620,
   "metadata": {},
   "outputs": [
    {
     "data": {
      "text/html": [
       "<div>\n",
       "<style scoped>\n",
       "    .dataframe tbody tr th:only-of-type {\n",
       "        vertical-align: middle;\n",
       "    }\n",
       "\n",
       "    .dataframe tbody tr th {\n",
       "        vertical-align: top;\n",
       "    }\n",
       "\n",
       "    .dataframe thead th {\n",
       "        text-align: right;\n",
       "    }\n",
       "</style>\n",
       "<table border=\"1\" class=\"dataframe\">\n",
       "  <thead>\n",
       "    <tr style=\"text-align: right;\">\n",
       "      <th></th>\n",
       "      <th>PatientId</th>\n",
       "      <th>AppointmentID</th>\n",
       "      <th>Gender</th>\n",
       "      <th>ScheduledDay</th>\n",
       "      <th>AppointmentDay</th>\n",
       "      <th>Age</th>\n",
       "      <th>Neighbourhood</th>\n",
       "      <th>Scholarship</th>\n",
       "      <th>Hipertension</th>\n",
       "      <th>Diabetes</th>\n",
       "      <th>Alcoholism</th>\n",
       "      <th>Handcap</th>\n",
       "      <th>SMS_received</th>\n",
       "      <th>no_show</th>\n",
       "    </tr>\n",
       "  </thead>\n",
       "  <tbody>\n",
       "    <tr>\n",
       "      <th>6</th>\n",
       "      <td>733688164476661.0</td>\n",
       "      <td>5630279</td>\n",
       "      <td>F</td>\n",
       "      <td>2016-04-27 15:05:12+00:00</td>\n",
       "      <td>2016-04-29 00:00:00+00:00</td>\n",
       "      <td>23</td>\n",
       "      <td>GOIABEIRAS</td>\n",
       "      <td>0</td>\n",
       "      <td>0</td>\n",
       "      <td>0</td>\n",
       "      <td>0</td>\n",
       "      <td>0</td>\n",
       "      <td>0</td>\n",
       "      <td>1</td>\n",
       "    </tr>\n",
       "    <tr>\n",
       "      <th>7</th>\n",
       "      <td>3449833394123.0</td>\n",
       "      <td>5630575</td>\n",
       "      <td>F</td>\n",
       "      <td>2016-04-27 15:39:58+00:00</td>\n",
       "      <td>2016-04-29 00:00:00+00:00</td>\n",
       "      <td>39</td>\n",
       "      <td>GOIABEIRAS</td>\n",
       "      <td>0</td>\n",
       "      <td>0</td>\n",
       "      <td>0</td>\n",
       "      <td>0</td>\n",
       "      <td>0</td>\n",
       "      <td>0</td>\n",
       "      <td>1</td>\n",
       "    </tr>\n",
       "    <tr>\n",
       "      <th>11</th>\n",
       "      <td>7542951368435.0</td>\n",
       "      <td>5620163</td>\n",
       "      <td>M</td>\n",
       "      <td>2016-04-26 08:44:12+00:00</td>\n",
       "      <td>2016-04-29 00:00:00+00:00</td>\n",
       "      <td>29</td>\n",
       "      <td>NOVA PALESTINA</td>\n",
       "      <td>0</td>\n",
       "      <td>0</td>\n",
       "      <td>0</td>\n",
       "      <td>0</td>\n",
       "      <td>0</td>\n",
       "      <td>1</td>\n",
       "      <td>1</td>\n",
       "    </tr>\n",
       "  </tbody>\n",
       "</table>\n",
       "</div>"
      ],
      "text/plain": [
       "            PatientId AppointmentID Gender              ScheduledDay  \\\n",
       "6   733688164476661.0       5630279      F 2016-04-27 15:05:12+00:00   \n",
       "7     3449833394123.0       5630575      F 2016-04-27 15:39:58+00:00   \n",
       "11    7542951368435.0       5620163      M 2016-04-26 08:44:12+00:00   \n",
       "\n",
       "              AppointmentDay  Age   Neighbourhood  Scholarship  Hipertension  \\\n",
       "6  2016-04-29 00:00:00+00:00   23      GOIABEIRAS            0             0   \n",
       "7  2016-04-29 00:00:00+00:00   39      GOIABEIRAS            0             0   \n",
       "11 2016-04-29 00:00:00+00:00   29  NOVA PALESTINA            0             0   \n",
       "\n",
       "    Diabetes  Alcoholism  Handcap  SMS_received  no_show  \n",
       "6          0           0        0             0        1  \n",
       "7          0           0        0             0        1  \n",
       "11         0           0        0             1        1  "
      ]
     },
     "execution_count": 620,
     "metadata": {},
     "output_type": "execute_result"
    }
   ],
   "source": [
    "# create and separate dfs for no attendance and attendace\n",
    "df_attend= df.query('no_show==0')\n",
    "\n",
    "df_non_attend=df.query('no_show==1')\n",
    "df_non_attend.head(3)"
   ]
  },
  {
   "cell_type": "markdown",
   "metadata": {},
   "source": [
    "* This determines dataframes by all ages either attendance or non-attendance"
   ]
  },
  {
   "cell_type": "code",
   "execution_count": 621,
   "metadata": {},
   "outputs": [],
   "source": [
    "# create age categories \n",
    "# getting proportions for age categories\n",
    "\n",
    "prop_infants = (df_attend.query(\"Age >=0 & Age<=1\").count() / df.query(\"Age >=0 & Age<=1\")[\"Age\"].count())[\"Age\"]\n",
    "prop_kids= (df_attend.query(\"Age >=2 & Age<=12\").count() / df.query(\"Age >=2 & Age<=12\")[\"Age\"].count())[\"Age\"]\n",
    "prop_teens= (df_attend.query(\"Age >=13 & Age<=19\").count() / df.query(\"Age >=13 & Age<=19\")[\"Age\"].count())[\"Age\"]\n",
    "prop_adults= (df_attend.query(\"Age >=20 & Age<=60\").count() / df.query(\"Age >=20 & Age<=60\")[\"Age\"].count())[\"Age\"]\n",
    "prop_olds = (df_attend.query(\"Age >=61\").count() / df.query(\"Age >=61 \")[\"Age\"].count())[\"Age\"]"
   ]
  },
  {
   "cell_type": "markdown",
   "metadata": {},
   "source": [
    "* This differentiates common age groups for easy classification for analysis: Attendence group"
   ]
  },
  {
   "cell_type": "code",
   "execution_count": 622,
   "metadata": {},
   "outputs": [
    {
     "data": {
      "image/png": "[encoded data removed]",
      "text/plain": [
       "<Figure size 648x360 with 1 Axes>"
      ]
     },
     "metadata": {
      "needs_background": "light"
     },
     "output_type": "display_data"
    }
   ],
   "source": [
    "# plot to visualise age categories with attendance\n",
    "age_count_attend = [\"Infants\",\"Kids\",\"Teens\",\"Adults\",\"Olds\"]\n",
    "hights = [prop_infants,prop_kids,prop_teens,prop_adults,prop_olds]\n",
    "width=0.7\n",
    "plt.figure(figsize=(9,5))\n",
    "plt.bar(age_count_attend, hights, width, color=[\"blue\",\"green\",\"purple\",\"brown\",\"black\"], alpha = .7)\n",
    "plt.ylabel(\"Attendance Rates\",fontsize=15, color=\"k\")\n",
    "plt.xlabel(\"Age Categories\",fontsize=15, color=\"k\")\n",
    "plt.title(\"Age Categories vs Attendance: All Patients\", fontsize=18, color=\"k\") \n",
    "plt.show();"
   ]
  },
  {
   "cell_type": "code",
   "execution_count": 623,
   "metadata": {},
   "outputs": [],
   "source": [
    "# Repeat the same for non_attendence rates for all patients by category.\n",
    "rate_infants = (df_non_attend.query(\"Age >=0 & Age<=1\").count() / df.query(\"Age >=0 & Age<=1\")[\"Age\"].count())[\"Age\"]\n",
    "rate_kids= (df_non_attend.query(\"Age >=2 & Age<=12\").count() / df.query(\"Age >=2 & Age<=12\")[\"Age\"].count())[\"Age\"]\n",
    "rate_teens= (df_non_attend.query(\"Age >=13 & Age<=19\").count() / df.query(\"Age >=13 & Age<=19\")[\"Age\"].count())[\"Age\"]\n",
    "rate_adults= (df_non_attend.query(\"Age >=20 & Age<=60\").count() / df.query(\"Age >=20 & Age<=60\")[\"Age\"].count())[\"Age\"]\n",
    "rate_olds = (df_non_attend.query(\"Age >=61\").count() / df.query(\"Age >=61 \")[\"Age\"].count())[\"Age\"]"
   ]
  },
  {
   "cell_type": "markdown",
   "metadata": {},
   "source": [
    "* This differentiates common age groups for easy classification for analysis: Non-Attendence group"
   ]
  },
  {
   "cell_type": "code",
   "execution_count": 624,
   "metadata": {},
   "outputs": [
    {
     "data": {
      "image/png": "[encoded data removed]",
      "text/plain": [
       "<Figure size 648x360 with 1 Axes>"
      ]
     },
     "metadata": {
      "needs_background": "light"
     },
     "output_type": "display_data"
    }
   ],
   "source": [
    "# Plot age categories vs non-attendance and visualise \n",
    "age_count_non_attend = [\"Infants\",\"Kids\",\"Teens\",\"Adults\",\"Olds\"]\n",
    "hights = [rate_infants,rate_kids,rate_teens,rate_adults,rate_olds]\n",
    "width=0.7\n",
    "plt.figure(figsize=(9,5))\n",
    "plt.bar(age_count_non_attend, hights, width, color=[\"blue\",\"green\",\"purple\",\"brown\",\"black\"], alpha = .7)\n",
    "plt.ylabel(\"Non_Attendance Rates\",fontsize=15, color=\"k\")\n",
    "plt.xlabel(\"Age Categories\",fontsize=15, color=\"k\")\n",
    "plt.title(\"Age Categories vs Non_Attendance: All Patients\", fontsize=18, color=\"k\") \n",
    "plt.show();\n"
   ]
  },
  {
   "cell_type": "markdown",
   "metadata": {},
   "source": [
    "### Imported Insights\n",
    "\n",
    "* Infants and old patients have higher attendence rates to appointments\n",
    "\n",
    "* Teens have higher non-attendence rates to medical appointments\n",
    "\n",
    "**Further investigations are neccessary to determine why teeanagers' commitment to attend for medical appointments is lower, whilst for infants and old people is higher**"
   ]
  },
  {
   "cell_type": "markdown",
   "metadata": {},
   "source": [
    "### Question 2: Are any the of chronic conditions or other ailments associated with the outcomes?\n",
    "* **Chronic conditions: Hypertension, Alcoholism and Diabetes**\n",
    "* **Other: Handcapped**\n"
   ]
  },
  {
   "cell_type": "code",
   "execution_count": 625,
   "metadata": {},
   "outputs": [
    {
     "data": {
      "text/html": [
       "<div>\n",
       "<style scoped>\n",
       "    .dataframe tbody tr th:only-of-type {\n",
       "        vertical-align: middle;\n",
       "    }\n",
       "\n",
       "    .dataframe tbody tr th {\n",
       "        vertical-align: top;\n",
       "    }\n",
       "\n",
       "    .dataframe thead th {\n",
       "        text-align: right;\n",
       "    }\n",
       "</style>\n",
       "<table border=\"1\" class=\"dataframe\">\n",
       "  <thead>\n",
       "    <tr style=\"text-align: right;\">\n",
       "      <th></th>\n",
       "      <th>PatientId</th>\n",
       "      <th>AppointmentID</th>\n",
       "      <th>Gender</th>\n",
       "      <th>ScheduledDay</th>\n",
       "      <th>AppointmentDay</th>\n",
       "      <th>Age</th>\n",
       "      <th>Neighbourhood</th>\n",
       "      <th>Scholarship</th>\n",
       "      <th>Hipertension</th>\n",
       "      <th>Diabetes</th>\n",
       "      <th>Alcoholism</th>\n",
       "      <th>Handcap</th>\n",
       "      <th>SMS_received</th>\n",
       "      <th>no_show</th>\n",
       "    </tr>\n",
       "  </thead>\n",
       "  <tbody>\n",
       "    <tr>\n",
       "      <th>6</th>\n",
       "      <td>733688164476661.0</td>\n",
       "      <td>5630279</td>\n",
       "      <td>F</td>\n",
       "      <td>2016-04-27 15:05:12+00:00</td>\n",
       "      <td>2016-04-29 00:00:00+00:00</td>\n",
       "      <td>23</td>\n",
       "      <td>GOIABEIRAS</td>\n",
       "      <td>0</td>\n",
       "      <td>0</td>\n",
       "      <td>0</td>\n",
       "      <td>0</td>\n",
       "      <td>0</td>\n",
       "      <td>0</td>\n",
       "      <td>1</td>\n",
       "    </tr>\n",
       "    <tr>\n",
       "      <th>7</th>\n",
       "      <td>3449833394123.0</td>\n",
       "      <td>5630575</td>\n",
       "      <td>F</td>\n",
       "      <td>2016-04-27 15:39:58+00:00</td>\n",
       "      <td>2016-04-29 00:00:00+00:00</td>\n",
       "      <td>39</td>\n",
       "      <td>GOIABEIRAS</td>\n",
       "      <td>0</td>\n",
       "      <td>0</td>\n",
       "      <td>0</td>\n",
       "      <td>0</td>\n",
       "      <td>0</td>\n",
       "      <td>0</td>\n",
       "      <td>1</td>\n",
       "    </tr>\n",
       "    <tr>\n",
       "      <th>11</th>\n",
       "      <td>7542951368435.0</td>\n",
       "      <td>5620163</td>\n",
       "      <td>M</td>\n",
       "      <td>2016-04-26 08:44:12+00:00</td>\n",
       "      <td>2016-04-29 00:00:00+00:00</td>\n",
       "      <td>29</td>\n",
       "      <td>NOVA PALESTINA</td>\n",
       "      <td>0</td>\n",
       "      <td>0</td>\n",
       "      <td>0</td>\n",
       "      <td>0</td>\n",
       "      <td>0</td>\n",
       "      <td>1</td>\n",
       "      <td>1</td>\n",
       "    </tr>\n",
       "    <tr>\n",
       "      <th>17</th>\n",
       "      <td>14794966191172.0</td>\n",
       "      <td>5633460</td>\n",
       "      <td>F</td>\n",
       "      <td>2016-04-28 09:28:57+00:00</td>\n",
       "      <td>2016-04-29 00:00:00+00:00</td>\n",
       "      <td>40</td>\n",
       "      <td>CONQUISTA</td>\n",
       "      <td>1</td>\n",
       "      <td>0</td>\n",
       "      <td>0</td>\n",
       "      <td>0</td>\n",
       "      <td>0</td>\n",
       "      <td>0</td>\n",
       "      <td>1</td>\n",
       "    </tr>\n",
       "    <tr>\n",
       "      <th>20</th>\n",
       "      <td>622257462899397.0</td>\n",
       "      <td>5626083</td>\n",
       "      <td>F</td>\n",
       "      <td>2016-04-27 07:51:14+00:00</td>\n",
       "      <td>2016-04-29 00:00:00+00:00</td>\n",
       "      <td>30</td>\n",
       "      <td>NOVA PALESTINA</td>\n",
       "      <td>0</td>\n",
       "      <td>0</td>\n",
       "      <td>0</td>\n",
       "      <td>0</td>\n",
       "      <td>0</td>\n",
       "      <td>0</td>\n",
       "      <td>1</td>\n",
       "    </tr>\n",
       "  </tbody>\n",
       "</table>\n",
       "</div>"
      ],
      "text/plain": [
       "            PatientId AppointmentID Gender              ScheduledDay  \\\n",
       "6   733688164476661.0       5630279      F 2016-04-27 15:05:12+00:00   \n",
       "7     3449833394123.0       5630575      F 2016-04-27 15:39:58+00:00   \n",
       "11    7542951368435.0       5620163      M 2016-04-26 08:44:12+00:00   \n",
       "17   14794966191172.0       5633460      F 2016-04-28 09:28:57+00:00   \n",
       "20  622257462899397.0       5626083      F 2016-04-27 07:51:14+00:00   \n",
       "\n",
       "              AppointmentDay  Age   Neighbourhood  Scholarship  Hipertension  \\\n",
       "6  2016-04-29 00:00:00+00:00   23      GOIABEIRAS            0             0   \n",
       "7  2016-04-29 00:00:00+00:00   39      GOIABEIRAS            0             0   \n",
       "11 2016-04-29 00:00:00+00:00   29  NOVA PALESTINA            0             0   \n",
       "17 2016-04-29 00:00:00+00:00   40       CONQUISTA            1             0   \n",
       "20 2016-04-29 00:00:00+00:00   30  NOVA PALESTINA            0             0   \n",
       "\n",
       "    Diabetes  Alcoholism  Handcap  SMS_received  no_show  \n",
       "6          0           0        0             0        1  \n",
       "7          0           0        0             0        1  \n",
       "11         0           0        0             1        1  \n",
       "17         0           0        0             0        1  \n",
       "20         0           0        0             0        1  "
      ]
     },
     "execution_count": 625,
     "metadata": {},
     "output_type": "execute_result"
    }
   ],
   "source": [
    "# create a df_c for all patients who didn't attend the appointment\n",
    "df_c= df.query('no_show==1')\n",
    "df_c.head()"
   ]
  },
  {
   "cell_type": "code",
   "execution_count": 626,
   "metadata": {},
   "outputs": [
    {
     "data": {
      "text/html": [
       "<div>\n",
       "<style scoped>\n",
       "    .dataframe tbody tr th:only-of-type {\n",
       "        vertical-align: middle;\n",
       "    }\n",
       "\n",
       "    .dataframe tbody tr th {\n",
       "        vertical-align: top;\n",
       "    }\n",
       "\n",
       "    .dataframe thead th {\n",
       "        text-align: right;\n",
       "    }\n",
       "</style>\n",
       "<table border=\"1\" class=\"dataframe\">\n",
       "  <thead>\n",
       "    <tr style=\"text-align: right;\">\n",
       "      <th></th>\n",
       "      <th>PatientId</th>\n",
       "      <th>AppointmentID</th>\n",
       "      <th>Gender</th>\n",
       "      <th>ScheduledDay</th>\n",
       "      <th>AppointmentDay</th>\n",
       "      <th>Age</th>\n",
       "      <th>Neighbourhood</th>\n",
       "      <th>Scholarship</th>\n",
       "      <th>Hipertension</th>\n",
       "      <th>Diabetes</th>\n",
       "      <th>Alcoholism</th>\n",
       "      <th>Handcap</th>\n",
       "      <th>SMS_received</th>\n",
       "      <th>no_show</th>\n",
       "    </tr>\n",
       "  </thead>\n",
       "  <tbody>\n",
       "    <tr>\n",
       "      <th>0</th>\n",
       "      <td>29872499824296.0</td>\n",
       "      <td>5642903</td>\n",
       "      <td>F</td>\n",
       "      <td>2016-04-29 18:38:08+00:00</td>\n",
       "      <td>2016-04-29 00:00:00+00:00</td>\n",
       "      <td>62</td>\n",
       "      <td>JARDIM DA PENHA</td>\n",
       "      <td>0</td>\n",
       "      <td>1</td>\n",
       "      <td>0</td>\n",
       "      <td>0</td>\n",
       "      <td>0</td>\n",
       "      <td>0</td>\n",
       "      <td>0</td>\n",
       "    </tr>\n",
       "    <tr>\n",
       "      <th>1</th>\n",
       "      <td>558997776694438.0</td>\n",
       "      <td>5642503</td>\n",
       "      <td>M</td>\n",
       "      <td>2016-04-29 16:08:27+00:00</td>\n",
       "      <td>2016-04-29 00:00:00+00:00</td>\n",
       "      <td>56</td>\n",
       "      <td>JARDIM DA PENHA</td>\n",
       "      <td>0</td>\n",
       "      <td>0</td>\n",
       "      <td>0</td>\n",
       "      <td>0</td>\n",
       "      <td>0</td>\n",
       "      <td>0</td>\n",
       "      <td>0</td>\n",
       "    </tr>\n",
       "    <tr>\n",
       "      <th>2</th>\n",
       "      <td>4262962299951.0</td>\n",
       "      <td>5642549</td>\n",
       "      <td>F</td>\n",
       "      <td>2016-04-29 16:19:04+00:00</td>\n",
       "      <td>2016-04-29 00:00:00+00:00</td>\n",
       "      <td>62</td>\n",
       "      <td>MATA DA PRAIA</td>\n",
       "      <td>0</td>\n",
       "      <td>0</td>\n",
       "      <td>0</td>\n",
       "      <td>0</td>\n",
       "      <td>0</td>\n",
       "      <td>0</td>\n",
       "      <td>0</td>\n",
       "    </tr>\n",
       "  </tbody>\n",
       "</table>\n",
       "</div>"
      ],
      "text/plain": [
       "           PatientId AppointmentID Gender              ScheduledDay  \\\n",
       "0   29872499824296.0       5642903      F 2016-04-29 18:38:08+00:00   \n",
       "1  558997776694438.0       5642503      M 2016-04-29 16:08:27+00:00   \n",
       "2    4262962299951.0       5642549      F 2016-04-29 16:19:04+00:00   \n",
       "\n",
       "             AppointmentDay  Age    Neighbourhood  Scholarship  Hipertension  \\\n",
       "0 2016-04-29 00:00:00+00:00   62  JARDIM DA PENHA            0             1   \n",
       "1 2016-04-29 00:00:00+00:00   56  JARDIM DA PENHA            0             0   \n",
       "2 2016-04-29 00:00:00+00:00   62    MATA DA PRAIA            0             0   \n",
       "\n",
       "   Diabetes  Alcoholism  Handcap  SMS_received  no_show  \n",
       "0         0           0        0             0        0  \n",
       "1         0           0        0             0        0  \n",
       "2         0           0        0             0        0  "
      ]
     },
     "execution_count": 626,
     "metadata": {},
     "output_type": "execute_result"
    }
   ],
   "source": [
    "# create a df for all patients who attended the appointment\n",
    "df_nc= df.query('no_show==0')\n",
    "df_nc.head(3)"
   ]
  },
  {
   "cell_type": "code",
   "execution_count": 627,
   "metadata": {},
   "outputs": [
    {
     "data": {
      "text/plain": [
       "Hipertension  Alcoholism  Diabetes  no_show\n",
       "0             0           0         1          17838\n",
       "                          1         1            276\n",
       "              1           0         1            420\n",
       "                          1         1             13\n",
       "1             0           0         1           2433\n",
       "                          1         1           1095\n",
       "              1           0         1            198\n",
       "                          1         1             46\n",
       "Name: no_show, dtype: int64"
      ]
     },
     "execution_count": 627,
     "metadata": {},
     "output_type": "execute_result"
    }
   ],
   "source": [
    "# group all chronic patients who didn't attend and count\n",
    "df_chronic= df_c.groupby(['Hipertension', 'Alcoholism',  'Diabetes'])['no_show'].value_counts()\n",
    "df_chronic"
   ]
  },
  {
   "cell_type": "markdown",
   "metadata": {},
   "source": [
    "* Grouped all chronic patients who didn't attend and count"
   ]
  },
  {
   "cell_type": "code",
   "execution_count": 628,
   "metadata": {},
   "outputs": [
    {
     "data": {
      "text/plain": [
       "Hipertension  Alcoholism  Diabetes  no_show\n",
       "0             0           0         0          67473\n",
       "                          1         0           1105\n",
       "              1           0         0           1537\n",
       "                          1         0             63\n",
       "1             0           0         0          11811\n",
       "                          1         0           5135\n",
       "              1           0         0            873\n",
       "                          1         0            210\n",
       "Name: no_show, dtype: int64"
      ]
     },
     "execution_count": 628,
     "metadata": {},
     "output_type": "execute_result"
    }
   ],
   "source": [
    "# group all chronic patients attended and count\n",
    "df_nchronic= df_nc.groupby(['Hipertension', 'Alcoholism',  'Diabetes'])['no_show'].value_counts()\n",
    "df_nchronic"
   ]
  },
  {
   "cell_type": "code",
   "execution_count": 629,
   "metadata": {},
   "outputs": [
    {
     "name": "stdout",
     "output_type": "stream",
     "text": [
      "Hipertension  Alcoholism  Diabetes  no_show\n",
      "0             0           0         1          82.423066\n",
      "                          1         1           1.275298\n",
      "              1           0         1          62.038405\n",
      "                          1         1           1.920236\n",
      "1             0           0         1          11.242029\n",
      "                          1         1           5.059606\n",
      "              1           0         1          29.246677\n",
      "                          1         1           6.794682\n",
      "Name: no_show, dtype: float64\n"
     ]
    }
   ],
   "source": [
    "# determine percentage distribution chronic patients who didn't attend\n",
    "Pct_dist = df_chronic.groupby(level=1).apply(lambda x:100 * x / int(x.sum()))\n",
    "print(Pct_dist)"
   ]
  },
  {
   "cell_type": "code",
   "execution_count": 630,
   "metadata": {},
   "outputs": [
    {
     "name": "stdout",
     "output_type": "stream",
     "text": [
      "Hipertension  Alcoholism  Diabetes  no_show\n",
      "0             0           0         0          78.893644\n",
      "                          1         0           1.292035\n",
      "              1           0         0          57.286619\n",
      "                          1         0           2.348118\n",
      "1             0           0         0          13.810159\n",
      "                          1         0           6.004163\n",
      "              1           0         0          32.538204\n",
      "                          1         0           7.827059\n",
      "Name: no_show, dtype: float64\n"
     ]
    }
   ],
   "source": [
    "# determine percentage distribution chronic patients who  attended\n",
    "Pct_ndist = df_nchronic.groupby(level=1).apply(lambda x:100 * x / int(x.sum()))\n",
    "print(Pct_ndist)"
   ]
  },
  {
   "cell_type": "code",
   "execution_count": 631,
   "metadata": {},
   "outputs": [
    {
     "data": {
      "text/plain": [
       "Hipertension\n",
       "0    88725\n",
       "1    21801\n",
       "Name: no_show, dtype: int64"
      ]
     },
     "execution_count": 631,
     "metadata": {},
     "output_type": "execute_result"
    }
   ],
   "source": [
    "# lets seperate for each condition for better clarity.\n",
    "# determine attendance rate for hypertensive patients\n",
    "df_hyp= df.groupby(['Hipertension'])['no_show'].count()\n",
    "df_hyp"
   ]
  },
  {
   "cell_type": "code",
   "execution_count": 632,
   "metadata": {
    "scrolled": true
   },
   "outputs": [
    {
     "data": {
      "image/png": "[encoded data removed]",
      "text/plain": [
       "<Figure size 432x288 with 1 Axes>"
      ]
     },
     "metadata": {},
     "output_type": "display_data"
    }
   ],
   "source": [
    "# Plot a pie chat \n",
    "plt.pie(df_hyp,labels=[\"Attended\", \"Didn't_Attend\"], autopct='%1.1f%%', textprops={'fontsize': 18},explode = (0, 0.06))\n",
    "plt.rcParams['font.size'] = 10\n",
    "plt.title(\"Percentage of Hypertensive patients attendence rate to appointment vs no attendance\",fontsize=18)\n",
    "plt.legend()\n",
    "plt.show()"
   ]
  },
  {
   "cell_type": "code",
   "execution_count": 633,
   "metadata": {},
   "outputs": [
    {
     "data": {
      "text/plain": [
       "Alcoholism\n",
       "0    107166\n",
       "1      3360\n",
       "Name: no_show, dtype: int64"
      ]
     },
     "execution_count": 633,
     "metadata": {},
     "output_type": "execute_result"
    }
   ],
   "source": [
    "# determine attendance rate for alcoholic patients\n",
    "df_alc= df.groupby(['Alcoholism'])['no_show'].count()\n",
    "df_alc"
   ]
  },
  {
   "cell_type": "code",
   "execution_count": 634,
   "metadata": {},
   "outputs": [
    {
     "data": {
      "image/png": "[encoded data removed]",
      "text/plain": [
       "<Figure size 432x288 with 1 Axes>"
      ]
     },
     "metadata": {},
     "output_type": "display_data"
    }
   ],
   "source": [
    "plt.pie(df_alc,labels=[\"Attended\", \"Didn't_Attend\"], autopct='%1.1f%%', textprops={'fontsize': 18},explode = (0, 0.06))\n",
    "plt.rcParams['font.size'] = 10\n",
    "plt.title(\"Percentage of Alcoholic patients attendence rate to appointment vs no attendance\",fontsize=18)\n",
    "plt.legend()\n",
    "plt.show()"
   ]
  },
  {
   "cell_type": "code",
   "execution_count": 635,
   "metadata": {},
   "outputs": [
    {
     "data": {
      "text/plain": [
       "Diabetes\n",
       "0    102583\n",
       "1      7943\n",
       "Name: no_show, dtype: int64"
      ]
     },
     "execution_count": 635,
     "metadata": {},
     "output_type": "execute_result"
    }
   ],
   "source": [
    "# determine attendance rate for diabetic patients\n",
    "df_dib= df.groupby(['Diabetes'])['no_show'].count()\n",
    "df_dib"
   ]
  },
  {
   "cell_type": "code",
   "execution_count": 636,
   "metadata": {},
   "outputs": [
    {
     "data": {
      "image/png": "[encoded data removed]",
      "text/plain": [
       "<Figure size 432x288 with 1 Axes>"
      ]
     },
     "metadata": {},
     "output_type": "display_data"
    }
   ],
   "source": [
    "plt.pie(df_dib,labels=[\"Attended\", \"Didn't_Attend\"], autopct='%1.1f%%', textprops={'fontsize': 18},explode = (0, 0.06))\n",
    "plt.rcParams['font.size'] = 10\n",
    "plt.title(\"Percentage of Diabetic patients attendence rate to appointment vs no attendance\",fontsize=18)\n",
    "plt.legend()\n",
    "plt.show()"
   ]
  },
  {
   "cell_type": "code",
   "execution_count": 637,
   "metadata": {},
   "outputs": [
    {
     "data": {
      "text/plain": [
       "Handcap\n",
       "0    108285\n",
       "1      2241\n",
       "Name: no_show, dtype: int64"
      ]
     },
     "execution_count": 637,
     "metadata": {},
     "output_type": "execute_result"
    }
   ],
   "source": [
    "# determine attendance rate for handcapped patients\n",
    "df_hcp= df.groupby(['Handcap'])['no_show'].count()\n",
    "df_hcp"
   ]
  },
  {
   "cell_type": "code",
   "execution_count": 638,
   "metadata": {},
   "outputs": [
    {
     "data": {
      "image/png": "[encoded data removed]",
      "text/plain": [
       "<Figure size 432x288 with 1 Axes>"
      ]
     },
     "metadata": {},
     "output_type": "display_data"
    }
   ],
   "source": [
    "plt.pie(df_hcp,labels=[\"Attended\", \"Didn't_Attend\"], autopct='%1.1f%%', textprops={'fontsize': 18},explode = (0, 0.06))\n",
    "plt.rcParams['font.size'] = 10\n",
    "plt.title(\"Percentage of Handcapped patients attendence rate to appointment vs no attendance\",fontsize=18)\n",
    "plt.legend()\n",
    "plt.show()"
   ]
  },
  {
   "cell_type": "code",
   "execution_count": 639,
   "metadata": {
    "scrolled": true
   },
   "outputs": [
    {
     "data": {
      "text/html": [
       "<div>\n",
       "<style scoped>\n",
       "    .dataframe tbody tr th:only-of-type {\n",
       "        vertical-align: middle;\n",
       "    }\n",
       "\n",
       "    .dataframe tbody tr th {\n",
       "        vertical-align: top;\n",
       "    }\n",
       "\n",
       "    .dataframe thead th {\n",
       "        text-align: right;\n",
       "    }\n",
       "</style>\n",
       "<table border=\"1\" class=\"dataframe\">\n",
       "  <thead>\n",
       "    <tr style=\"text-align: right;\">\n",
       "      <th></th>\n",
       "      <th>PatientId</th>\n",
       "      <th>AppointmentID</th>\n",
       "      <th>Gender</th>\n",
       "      <th>ScheduledDay</th>\n",
       "      <th>AppointmentDay</th>\n",
       "      <th>Age</th>\n",
       "      <th>Neighbourhood</th>\n",
       "      <th>Scholarship</th>\n",
       "      <th>Hipertension</th>\n",
       "      <th>Diabetes</th>\n",
       "      <th>Alcoholism</th>\n",
       "      <th>Handcap</th>\n",
       "      <th>SMS_received</th>\n",
       "      <th>no_show</th>\n",
       "    </tr>\n",
       "  </thead>\n",
       "  <tbody>\n",
       "    <tr>\n",
       "      <th>0</th>\n",
       "      <td>29872499824296.0</td>\n",
       "      <td>5642903</td>\n",
       "      <td>F</td>\n",
       "      <td>2016-04-29 18:38:08+00:00</td>\n",
       "      <td>2016-04-29 00:00:00+00:00</td>\n",
       "      <td>62</td>\n",
       "      <td>JARDIM DA PENHA</td>\n",
       "      <td>0</td>\n",
       "      <td>1</td>\n",
       "      <td>0</td>\n",
       "      <td>0</td>\n",
       "      <td>0</td>\n",
       "      <td>0</td>\n",
       "      <td>0</td>\n",
       "    </tr>\n",
       "    <tr>\n",
       "      <th>1</th>\n",
       "      <td>558997776694438.0</td>\n",
       "      <td>5642503</td>\n",
       "      <td>M</td>\n",
       "      <td>2016-04-29 16:08:27+00:00</td>\n",
       "      <td>2016-04-29 00:00:00+00:00</td>\n",
       "      <td>56</td>\n",
       "      <td>JARDIM DA PENHA</td>\n",
       "      <td>0</td>\n",
       "      <td>0</td>\n",
       "      <td>0</td>\n",
       "      <td>0</td>\n",
       "      <td>0</td>\n",
       "      <td>0</td>\n",
       "      <td>0</td>\n",
       "    </tr>\n",
       "    <tr>\n",
       "      <th>2</th>\n",
       "      <td>4262962299951.0</td>\n",
       "      <td>5642549</td>\n",
       "      <td>F</td>\n",
       "      <td>2016-04-29 16:19:04+00:00</td>\n",
       "      <td>2016-04-29 00:00:00+00:00</td>\n",
       "      <td>62</td>\n",
       "      <td>MATA DA PRAIA</td>\n",
       "      <td>0</td>\n",
       "      <td>0</td>\n",
       "      <td>0</td>\n",
       "      <td>0</td>\n",
       "      <td>0</td>\n",
       "      <td>0</td>\n",
       "      <td>0</td>\n",
       "    </tr>\n",
       "    <tr>\n",
       "      <th>3</th>\n",
       "      <td>867951213174.0</td>\n",
       "      <td>5642828</td>\n",
       "      <td>F</td>\n",
       "      <td>2016-04-29 17:29:31+00:00</td>\n",
       "      <td>2016-04-29 00:00:00+00:00</td>\n",
       "      <td>8</td>\n",
       "      <td>PONTAL DE CAMBURI</td>\n",
       "      <td>0</td>\n",
       "      <td>0</td>\n",
       "      <td>0</td>\n",
       "      <td>0</td>\n",
       "      <td>0</td>\n",
       "      <td>0</td>\n",
       "      <td>0</td>\n",
       "    </tr>\n",
       "    <tr>\n",
       "      <th>4</th>\n",
       "      <td>8841186448183.0</td>\n",
       "      <td>5642494</td>\n",
       "      <td>F</td>\n",
       "      <td>2016-04-29 16:07:23+00:00</td>\n",
       "      <td>2016-04-29 00:00:00+00:00</td>\n",
       "      <td>56</td>\n",
       "      <td>JARDIM DA PENHA</td>\n",
       "      <td>0</td>\n",
       "      <td>1</td>\n",
       "      <td>1</td>\n",
       "      <td>0</td>\n",
       "      <td>0</td>\n",
       "      <td>0</td>\n",
       "      <td>0</td>\n",
       "    </tr>\n",
       "    <tr>\n",
       "      <th>...</th>\n",
       "      <td>...</td>\n",
       "      <td>...</td>\n",
       "      <td>...</td>\n",
       "      <td>...</td>\n",
       "      <td>...</td>\n",
       "      <td>...</td>\n",
       "      <td>...</td>\n",
       "      <td>...</td>\n",
       "      <td>...</td>\n",
       "      <td>...</td>\n",
       "      <td>...</td>\n",
       "      <td>...</td>\n",
       "      <td>...</td>\n",
       "      <td>...</td>\n",
       "    </tr>\n",
       "    <tr>\n",
       "      <th>110522</th>\n",
       "      <td>2572134369293.0</td>\n",
       "      <td>5651768</td>\n",
       "      <td>F</td>\n",
       "      <td>2016-05-03 09:15:35+00:00</td>\n",
       "      <td>2016-06-07 00:00:00+00:00</td>\n",
       "      <td>56</td>\n",
       "      <td>MARIA ORTIZ</td>\n",
       "      <td>0</td>\n",
       "      <td>0</td>\n",
       "      <td>0</td>\n",
       "      <td>0</td>\n",
       "      <td>0</td>\n",
       "      <td>1</td>\n",
       "      <td>0</td>\n",
       "    </tr>\n",
       "    <tr>\n",
       "      <th>110523</th>\n",
       "      <td>3596266328735.0</td>\n",
       "      <td>5650093</td>\n",
       "      <td>F</td>\n",
       "      <td>2016-05-03 07:27:33+00:00</td>\n",
       "      <td>2016-06-07 00:00:00+00:00</td>\n",
       "      <td>51</td>\n",
       "      <td>MARIA ORTIZ</td>\n",
       "      <td>0</td>\n",
       "      <td>0</td>\n",
       "      <td>0</td>\n",
       "      <td>0</td>\n",
       "      <td>0</td>\n",
       "      <td>1</td>\n",
       "      <td>0</td>\n",
       "    </tr>\n",
       "    <tr>\n",
       "      <th>110524</th>\n",
       "      <td>15576631729893.0</td>\n",
       "      <td>5630692</td>\n",
       "      <td>F</td>\n",
       "      <td>2016-04-27 16:03:52+00:00</td>\n",
       "      <td>2016-06-07 00:00:00+00:00</td>\n",
       "      <td>21</td>\n",
       "      <td>MARIA ORTIZ</td>\n",
       "      <td>0</td>\n",
       "      <td>0</td>\n",
       "      <td>0</td>\n",
       "      <td>0</td>\n",
       "      <td>0</td>\n",
       "      <td>1</td>\n",
       "      <td>0</td>\n",
       "    </tr>\n",
       "    <tr>\n",
       "      <th>110525</th>\n",
       "      <td>92134931435557.0</td>\n",
       "      <td>5630323</td>\n",
       "      <td>F</td>\n",
       "      <td>2016-04-27 15:09:23+00:00</td>\n",
       "      <td>2016-06-07 00:00:00+00:00</td>\n",
       "      <td>38</td>\n",
       "      <td>MARIA ORTIZ</td>\n",
       "      <td>0</td>\n",
       "      <td>0</td>\n",
       "      <td>0</td>\n",
       "      <td>0</td>\n",
       "      <td>0</td>\n",
       "      <td>1</td>\n",
       "      <td>0</td>\n",
       "    </tr>\n",
       "    <tr>\n",
       "      <th>110526</th>\n",
       "      <td>377511518121127.0</td>\n",
       "      <td>5629448</td>\n",
       "      <td>F</td>\n",
       "      <td>2016-04-27 13:30:56+00:00</td>\n",
       "      <td>2016-06-07 00:00:00+00:00</td>\n",
       "      <td>54</td>\n",
       "      <td>MARIA ORTIZ</td>\n",
       "      <td>0</td>\n",
       "      <td>0</td>\n",
       "      <td>0</td>\n",
       "      <td>0</td>\n",
       "      <td>0</td>\n",
       "      <td>1</td>\n",
       "      <td>0</td>\n",
       "    </tr>\n",
       "  </tbody>\n",
       "</table>\n",
       "<p>110513 rows × 14 columns</p>\n",
       "</div>"
      ],
      "text/plain": [
       "                PatientId AppointmentID Gender              ScheduledDay  \\\n",
       "0        29872499824296.0       5642903      F 2016-04-29 18:38:08+00:00   \n",
       "1       558997776694438.0       5642503      M 2016-04-29 16:08:27+00:00   \n",
       "2         4262962299951.0       5642549      F 2016-04-29 16:19:04+00:00   \n",
       "3          867951213174.0       5642828      F 2016-04-29 17:29:31+00:00   \n",
       "4         8841186448183.0       5642494      F 2016-04-29 16:07:23+00:00   \n",
       "...                   ...           ...    ...                       ...   \n",
       "110522    2572134369293.0       5651768      F 2016-05-03 09:15:35+00:00   \n",
       "110523    3596266328735.0       5650093      F 2016-05-03 07:27:33+00:00   \n",
       "110524   15576631729893.0       5630692      F 2016-04-27 16:03:52+00:00   \n",
       "110525   92134931435557.0       5630323      F 2016-04-27 15:09:23+00:00   \n",
       "110526  377511518121127.0       5629448      F 2016-04-27 13:30:56+00:00   \n",
       "\n",
       "                  AppointmentDay  Age      Neighbourhood  Scholarship  \\\n",
       "0      2016-04-29 00:00:00+00:00   62    JARDIM DA PENHA            0   \n",
       "1      2016-04-29 00:00:00+00:00   56    JARDIM DA PENHA            0   \n",
       "2      2016-04-29 00:00:00+00:00   62      MATA DA PRAIA            0   \n",
       "3      2016-04-29 00:00:00+00:00    8  PONTAL DE CAMBURI            0   \n",
       "4      2016-04-29 00:00:00+00:00   56    JARDIM DA PENHA            0   \n",
       "...                          ...  ...                ...          ...   \n",
       "110522 2016-06-07 00:00:00+00:00   56        MARIA ORTIZ            0   \n",
       "110523 2016-06-07 00:00:00+00:00   51        MARIA ORTIZ            0   \n",
       "110524 2016-06-07 00:00:00+00:00   21        MARIA ORTIZ            0   \n",
       "110525 2016-06-07 00:00:00+00:00   38        MARIA ORTIZ            0   \n",
       "110526 2016-06-07 00:00:00+00:00   54        MARIA ORTIZ            0   \n",
       "\n",
       "        Hipertension  Diabetes  Alcoholism  Handcap  SMS_received  no_show  \n",
       "0                  1         0           0        0             0        0  \n",
       "1                  0         0           0        0             0        0  \n",
       "2                  0         0           0        0             0        0  \n",
       "3                  0         0           0        0             0        0  \n",
       "4                  1         1           0        0             0        0  \n",
       "...              ...       ...         ...      ...           ...      ...  \n",
       "110522             0         0           0        0             1        0  \n",
       "110523             0         0           0        0             1        0  \n",
       "110524             0         0           0        0             1        0  \n",
       "110525             0         0           0        0             1        0  \n",
       "110526             0         0           0        0             1        0  \n",
       "\n",
       "[110513 rows x 14 columns]"
      ]
     },
     "execution_count": 639,
     "metadata": {},
     "output_type": "execute_result"
    }
   ],
   "source": [
    "#determine df with no condition\n",
    "df_no_cond= df.query('Hipertension==0 or Alcoholism==0 or Diabetes==0 or Handcap==0')\n",
    "df_no_cond"
   ]
  },
  {
   "cell_type": "code",
   "execution_count": 640,
   "metadata": {},
   "outputs": [
    {
     "data": {
      "text/plain": [
       "no_show\n",
       "0    88198\n",
       "1    22315\n",
       "Name: no_show, dtype: int64"
      ]
     },
     "execution_count": 640,
     "metadata": {},
     "output_type": "execute_result"
    }
   ],
   "source": [
    "# from df no_condition get % rate of attendence and compare attendance rates vs all conditions.\n",
    "pd_nc= df_no_cond.groupby(['no_show'])['no_show'].count()\n",
    "pd_nc"
   ]
  },
  {
   "cell_type": "code",
   "execution_count": 641,
   "metadata": {},
   "outputs": [
    {
     "data": {
      "image/png": "[encoded data removed]",
      "text/plain": [
       "<Figure size 432x288 with 1 Axes>"
      ]
     },
     "metadata": {},
     "output_type": "display_data"
    }
   ],
   "source": [
    "plt.pie(pd_nc,labels=[\"Attended\", \"Didn't_Attend\"], autopct='%1.1f%%', textprops={'fontsize': 18},explode = (0, 0.06))\n",
    "plt.rcParams['font.size'] = 10\n",
    "plt.title(\"Percentage of No_Condition patients attendence to appointment vs no attendance\",fontsize=18)\n",
    "plt.legend()\n",
    "plt.show();"
   ]
  },
  {
   "cell_type": "markdown",
   "metadata": {},
   "source": [
    "### Important Insights\n",
    "\n",
    "* Of all three chronic conditions, the percentage of non-attendance was higher in hypertensive (19.7%) patients compared to other conditions.\n",
    "\n",
    "* For those handicapped the percentage of non-attendance was lower compared to all chronic conditions measured.\n",
    "* **However patients without any condition mentioned in the dataset had a higher non-attendance percentage (20.2%) compared to patients with  conditions.**\n"
   ]
  },
  {
   "cell_type": "markdown",
   "metadata": {},
   "source": [
    "### Question 3: Does the use of SMS alerts improves the outcome?\n",
    "\n"
   ]
  },
  {
   "cell_type": "code",
   "execution_count": 642,
   "metadata": {},
   "outputs": [
    {
     "data": {
      "text/plain": [
       "0    75044\n",
       "1    35482\n",
       "Name: SMS_received, dtype: int64"
      ]
     },
     "execution_count": 642,
     "metadata": {},
     "output_type": "execute_result"
    }
   ],
   "source": [
    "# create  df_sms to check for value counts\n",
    "df_sms = df.SMS_received.value_counts()\n",
    "df_sms"
   ]
  },
  {
   "cell_type": "code",
   "execution_count": 643,
   "metadata": {},
   "outputs": [
    {
     "data": {
      "image/png": "[encoded data removed]",
      "text/plain": [
       "<Figure size 432x288 with 1 Axes>"
      ]
     },
     "metadata": {},
     "output_type": "display_data"
    }
   ],
   "source": [
    "# visualise percentage distribution for those that received and not_received sms\n",
    "plt.pie(df_sms,labels=[\"SMS-Received\", \"No_SMS\"], autopct='%1.1f%%', textprops={'fontsize': 18},explode = (0, 0.06))\n",
    "plt.rcParams['font.size'] = 10\n",
    "plt.title(\"Percentage of SMS-Received Vs Not-Received SMS\",fontsize=18)\n",
    "plt.legend()\n",
    "plt.show();"
   ]
  },
  {
   "cell_type": "code",
   "execution_count": 644,
   "metadata": {},
   "outputs": [
    {
     "data": {
      "text/plain": [
       "SMS_received  no_show\n",
       "0             0          62509\n",
       "              1          12535\n",
       "1             0          25698\n",
       "              1           9784\n",
       "Name: no_show, dtype: int64"
      ]
     },
     "execution_count": 644,
     "metadata": {},
     "output_type": "execute_result"
    }
   ],
   "source": [
    "# check sms and no_show counts by groupby\n",
    "pct_sms=df.groupby(['SMS_received'])['no_show'].value_counts()\n",
    "pct_sms"
   ]
  },
  {
   "cell_type": "code",
   "execution_count": 645,
   "metadata": {},
   "outputs": [
    {
     "name": "stdout",
     "output_type": "stream",
     "text": [
      "SMS_received  no_show\n",
      "0             0          70.866258\n",
      "              1          56.162911\n",
      "1             0          29.133742\n",
      "              1          43.837089\n",
      "Name: no_show, dtype: float64\n"
     ]
    }
   ],
   "source": [
    "# determine propotional distribution patients who received SMS and  attendence\n",
    "Pct_sms = pct_sms.groupby(level=1).apply(lambda x:100 * x / int(x.sum()))\n",
    "print(Pct_sms)"
   ]
  },
  {
   "cell_type": "code",
   "execution_count": 646,
   "metadata": {},
   "outputs": [
    {
     "data": {
      "image/png": "[encoded data removed]",
      "text/plain": [
       "<Figure size 432x288 with 1 Axes>"
      ]
     },
     "metadata": {
      "needs_background": "light"
     },
     "output_type": "display_data"
    }
   ],
   "source": [
    "# plot a bar to visualise appointment attendence rate by sms received\n",
    "Pct_sms.unstack().plot(kind='bar',stacked=True,grid=True)\n",
    "plt.xticks([0, 1],['Not Received', 'Received'])\n",
    "plt.legend(['Attended', 'Didnt Attend']) \n",
    "plt.suptitle('Appointment Attendence rate by sms received') \n",
    "plt.ylabel('Attendence rate', fontsize=18); "
   ]
  },
  {
   "cell_type": "markdown",
   "metadata": {},
   "source": [
    "#### Insights\n",
    "\n",
    "* **29.1% of patients who didn't recieve SMS showed-up for the appointment**\n",
    "\n",
    "* **On the contrarry 70.9% of patients who didn't receive SMS show-up.**"
   ]
  },
  {
   "cell_type": "markdown",
   "metadata": {},
   "source": [
    "<a id='conclusions'></a>\n",
    "## Conclusions\n",
    "\n",
    "> **Findings**:\n",
    "* The analysis was limited to the questions provided.\n",
    "\n",
    "* From the data, the majority of patients  showed-up to their scheduled appointment.\n",
    "\n",
    "* Females represent a major portion for medical appointment than males, 65% compared to 35%.\n",
    "\n",
    "* No significant differences in gender and medical appointment rates were observed from this data.\n",
    "\n",
    "* Infants and old patients have higher attendence rates to appointments than other age categories, with teens having a higher non-attendence rates to medical appointments.\n",
    "\n",
    "* Of all three chronic conditions, the percentage of non-attendance was higher in hypertensive (19.7%) patients compared to other conditions.\n",
    "\n",
    "* For those handicapped the percentage of non-attendance was lower compared to all chronic conditions measured. However patients without any condition mentioned in the dataset had a higher non-attendance percentage (20.2%) compared to patients with conditions.\n",
    "\n",
    "* About 29.1% of patients who didn't recieve SMS showed-up for the appointment and on the contrarry 70.9% of patients who didn't receive SMS show-up for medical appointments.However, due to the fact that majority of patients didn't receive SMS,hence potential for bias may need further investigations.\n",
    "\n",
    "\n",
    "\n",
    "\n",
    "\n",
    "\n",
    "**Limitations:**\n",
    "* The data was limited to only three months.\n",
    "* Scheduled_day and Appointment_day columns had missing or inconsistent:\n",
    "  - for instance, Appointment_day column had date without hours, minutes, and seconds\n",
    "* The data set contains some rows with schedule months 11 & 12 in 2015, while all appointments are in 2016.\n",
    "* No further information on the scales or measurement criteria used for Handcap data capturing.\n",
    "\n",
    "\n"
   ]
  }
 ],
 "metadata": {
  "kernelspec": {
   "display_name": "Python 3",
   "language": "python",
   "name": "python3"
  },
  "language_info": {
   "codemirror_mode": {
    "name": "ipython",
    "version": 3
   },
   "file_extension": ".py",
   "mimetype": "text/x-python",
   "name": "python",
   "nbconvert_exporter": "python",
   "pygments_lexer": "ipython3",
   "version": "3.7.6"
  }
 },
 "nbformat": 4,
 "nbformat_minor": 2
}
